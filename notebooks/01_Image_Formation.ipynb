{
 "cells": [
  {
   "cell_type": "markdown",
   "metadata": {},
   "source": [
    "# Pinhole Camera Model Practice Questions"
   ]
  },
  {
   "cell_type": "markdown",
   "metadata": {},
   "source": [
    "## Question 1: Perspective Projection"
   ]
  },
  {
   "cell_type": "markdown",
   "metadata": {},
   "source": [
    "A 3D point in the camera coordinate system is given by `p_c = [10, 5, 20]`. \n",
    "The camera has a focal length `f` of 50mm. \n",
    "Calculate the position of the projection of this point on the image plane in meters."
   ]
  },
  {
   "cell_type": "code",
   "execution_count": 2,
   "metadata": {},
   "outputs": [
    {
     "name": "stdout",
     "output_type": "stream",
     "text": [
      "(0.025, 0.0125)\n"
     ]
    }
   ],
   "source": [
    "# Your code here\n",
    "p_c = [10, 5, 20]\n",
    "X, Y, Z = p_c\n",
    "f = 50/1000\n",
    "\n",
    "x = f * X / Z\n",
    "y = f * Y / Z\n",
    "\n",
    "print(f\"({x}, {y})\")"
   ]
  },
  {
   "cell_type": "markdown",
   "metadata": {},
   "source": [
    "---"
   ]
  },
  {
   "cell_type": "markdown",
   "metadata": {},
   "source": [
    "## Question 2: Conversion to Pixels"
   ]
  },
  {
   "cell_type": "markdown",
   "metadata": {},
   "source": [
    "Given the projected point from Question 1, convert its coordinates from meters to pixels. \n",
    "Assume the following intrinsic parameters: \n",
    "- `s_x` = 800 pixels/meter\n",
    "- `s_y` = 800 pixels/meter\n",
    "- `o_x` = 320 pixels\n",
    "- `o_y` = 240 pixels\n",
    "What are the pixel coordinates `(u^I, v^I)`?\n"
   ]
  },
  {
   "cell_type": "code",
   "execution_count": 3,
   "metadata": {},
   "outputs": [
    {
     "name": "stdout",
     "output_type": "stream",
     "text": [
      "(340.0, 250.0)\n"
     ]
    }
   ],
   "source": [
    "# Your code here\n",
    "\n",
    "s_x = 800\n",
    "s_y = 800\n",
    "o_x = 320\n",
    "o_y = 240\n",
    "\n",
    "u = s_x * x + o_x\n",
    "v = s_y * y + o_y\n",
    "\n",
    "print(f\"({u}, {v})\")"
   ]
  },
  {
   "cell_type": "markdown",
   "metadata": {},
   "source": [
    "---"
   ]
  },
  {
   "cell_type": "markdown",
   "metadata": {},
   "source": [
    "## Question 3: Intrinsic Matrix"
   ]
  },
  {
   "cell_type": "markdown",
   "metadata": {},
   "source": [
    "Construct the intrinsic calibration matrix `K` using the parameters from Question 2, assuming no skew (`s_θ = 0`)."
   ]
  },
  {
   "cell_type": "code",
   "execution_count": 6,
   "metadata": {},
   "outputs": [
    {
     "name": "stdout",
     "output_type": "stream",
     "text": [
      "800, 0, 320\n",
      "0, 800, 240\n",
      "0, 0, 1\n"
     ]
    }
   ],
   "source": [
    "# Your code here\n",
    "K = [[s_x, 0, o_x], [0, s_y, o_y], [0, 0, 1]]\n",
    "\n",
    "for i in K:\n",
    "    print(\", \".join(str(j) for j in i))"
   ]
  },
  {
   "cell_type": "markdown",
   "metadata": {},
   "source": [
    "---"
   ]
  },
  {
   "cell_type": "markdown",
   "metadata": {},
   "source": [
    "## Question 4: Point Projection with Known Pose"
   ]
  },
  {
   "cell_type": "markdown",
   "metadata": {},
   "source": [
    "A point in the world frame is given by `p_w = [2, 3, 50]`. The camera's pose `T_w^c` is given by an identity rotation matrix and a translation vector `t_w^c = [0, 0, 10]`. [cite_start]Using the intrinsic matrix `K` from Question 3, calculate the pixel coordinates of the projected point. [cite: 14, 16, 17]"
   ]
  },
  {
   "cell_type": "code",
   "execution_count": 7,
   "metadata": {},
   "outputs": [
    {
     "name": "stdout",
     "output_type": "stream",
     "text": [
      "(346.6666666666667, 280.0)\n"
     ]
    }
   ],
   "source": [
    "# Your code here\n",
    "R_w = [2, 3, 60]\n",
    "\n",
    "X = 2\n",
    "Y = 3\n",
    "Z = 60\n",
    "\n",
    "x = X / Z\n",
    "y = Y / Z\n",
    "\n",
    "u = s_x * x + o_x\n",
    "v = s_y * y + o_y\n",
    "\n",
    "print(f\"({u}, {v})\")"
   ]
  },
  {
   "cell_type": "markdown",
   "metadata": {},
   "source": [
    "---"
   ]
  },
  {
   "cell_type": "markdown",
   "metadata": {},
   "source": [
    "## Question 5: Radial Distortion"
   ]
  },
  {
   "cell_type": "markdown",
   "metadata": {},
   "source": [
    "A point is projected on the image plane at `(u_distort^I, v_distort^I) = (400, 350)` including radial distortion. Given distortion coefficients `a1 = 0.0001` and `a2 = 0.0000002` and the principal point `(o_x, o_y) = (320, 240)`, calculate the corrected pixel coordinates `(u^I, v^I)`."
   ]
  },
  {
   "cell_type": "code",
   "execution_count": 8,
   "metadata": {},
   "outputs": [
    {
     "name": "stdout",
     "output_type": "stream",
     "text": [
      "(6024.0, 8083.0)\n"
     ]
    }
   ],
   "source": [
    "# Your code here\n",
    "\n",
    "o_x = 320\n",
    "o_y = 240\n",
    "\n",
    "a1 = 0.0001\n",
    "a2 = 0.0000002\n",
    "ud = 400\n",
    "vd = 350\n",
    "\n",
    "r2 = (ud - o_x) ** 2 + (vd - o_y) ** 2\n",
    "\n",
    "u1 = (1 + a1 * r2 + a2 * (r2 ** 2)) * (ud - o_x) + o_x\n",
    "v1 = (1 + a1 * r2 + a2 * (r2 ** 2)) * (vd - o_y) + o_y\n",
    "\n",
    "print(f\"({u1}, {v1})\")"
   ]
  }
 ],
 "metadata": {
  "kernelspec": {
   "display_name": "base",
   "language": "python",
   "name": "python3"
  },
  "language_info": {
   "codemirror_mode": {
    "name": "ipython",
    "version": 3
   },
   "file_extension": ".py",
   "mimetype": "text/x-python",
   "name": "python",
   "nbconvert_exporter": "python",
   "pygments_lexer": "ipython3",
   "version": "3.13.5"
  }
 },
 "nbformat": 4,
 "nbformat_minor": 4
}
